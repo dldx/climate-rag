{
 "cells": [
  {
   "cell_type": "code",
   "execution_count": null,
   "metadata": {},
   "outputs": [
    {
     "name": "stderr",
     "output_type": "stream",
     "text": [
      "⚠️ These columns are not in the GCPT database: Chinese Name, Owner, Start year, Year, Heat rate (Btu/kWh LHV), ParentID, Other names\n"
     ]
    }
   ],
   "source": [
    "from langchain_openai import ChatOpenAI\n",
    "from langchain_experimental.agents import create_pandas_dataframe_agent\n",
    "import pandas as pd\n",
    "from GCPT import GCPT\n",
    "\n",
    "df = GCPT(file=\"/home/durand/Downloads/Global-Coal-Plant-Tracker - January-2024.xlsx\").df\n",
    "\n",
    "if True:\n",
    "    llm = ChatOpenAI(\n",
    "        model=\"gpt-4\",\n",
    "        temperature=0,\n",
    "    )\n",
    "else:\n",
    "    llm = ChatOllama(model=local_llm, temperature=0)\n",
    "\n",
    "agent_executor = create_pandas_dataframe_agent(\n",
    "    llm,\n",
    "    df,\n",
    "    verbose=True\n",
    ")"
   ]
  },
  {
   "cell_type": "code",
   "execution_count": null,
   "metadata": {},
   "outputs": [
    {
     "name": "stderr",
     "output_type": "stream",
     "text": [
      "Error in LangChainTracer.on_chain_end callback: AttributeError(\"'NoneType' object has no attribute 'append'\")\n",
      "Error in LangChainTracer.on_chain_end callback: AttributeError(\"'NoneType' object has no attribute 'append'\")\n"
     ]
    },
    {
     "name": "stdout",
     "output_type": "stream",
     "text": [
      "\n",
      "\n",
      "\u001b[1m> Entering new AgentExecutor chain...\u001b[0m\n"
     ]
    },
    {
     "name": "stderr",
     "output_type": "stream",
     "text": [
      "Error in LangChainTracer.on_chain_end callback: AttributeError(\"'NoneType' object has no attribute 'append'\")\n",
      "Error in LangChainTracer.on_chain_end callback: AttributeError(\"'NoneType' object has no attribute 'append'\")\n",
      "Error in LangChainTracer.on_chain_end callback: AttributeError(\"'NoneType' object has no attribute 'append'\")\n"
     ]
    },
    {
     "name": "stdout",
     "output_type": "stream",
     "text": [
      "\u001b[32;1m\u001b[1;3mThought: To answer this question, we need to filter the dataframe to include only the units that will still be operating in 2050 and are younger than 40 years. Then, we will group by region and sum the capacity. We will treat China as its own region.\n",
      "Action: python_repl_ast\n",
      "Action Input: df['End Year'] = df['Start Year'] + 40\u001b[0m\u001b[36;1m\u001b[1;3m\u001b[0m"
     ]
    },
    {
     "name": "stderr",
     "output_type": "stream",
     "text": [
      "Error in LangChainTracer.on_chain_end callback: AttributeError(\"'NoneType' object has no attribute 'append'\")\n",
      "Error in LangChainTracer.on_chain_end callback: AttributeError(\"'NoneType' object has no attribute 'append'\")\n",
      "Error in LangChainTracer.on_chain_end callback: AttributeError(\"'NoneType' object has no attribute 'append'\")\n"
     ]
    },
    {
     "name": "stdout",
     "output_type": "stream",
     "text": [
      "\u001b[32;1m\u001b[1;3mI have added a new column 'End Year' to the dataframe which represents the year when the unit will be 40 years old. Now, I need to filter the dataframe to include only the units that will still be operating in 2050 and are younger than 40 years.\n",
      "Action: python_repl_ast\n",
      "Action Input: df = df[(df['End Year'] >= 2050) & (df['Start Year'] <= 2010)]\u001b[0m\u001b[36;1m\u001b[1;3m\u001b[0m"
     ]
    },
    {
     "name": "stderr",
     "output_type": "stream",
     "text": [
      "Error in LangChainTracer.on_chain_end callback: AttributeError(\"'NoneType' object has no attribute 'append'\")\n",
      "Error in LangChainTracer.on_chain_end callback: AttributeError(\"'NoneType' object has no attribute 'append'\")\n",
      "Error in LangChainTracer.on_chain_end callback: AttributeError(\"'NoneType' object has no attribute 'append'\")\n"
     ]
    },
    {
     "name": "stdout",
     "output_type": "stream",
     "text": [
      "\u001b[32;1m\u001b[1;3mI have filtered the dataframe to include only the units that will still be operating in 2050 and are younger than 40 years. Now, I need to group by region and sum the capacity. I will treat China as its own region.\n",
      "Action: python_repl_ast\n",
      "Action Input: df['Region'] = df['Country'].apply(lambda x: 'China' if x == 'China' else df['Region'])\u001b[0m\u001b[36;1m\u001b[1;3mNameError: name 'df' is not defined\u001b[0m"
     ]
    },
    {
     "name": "stderr",
     "output_type": "stream",
     "text": [
      "Error in LangChainTracer.on_chain_end callback: AttributeError(\"'NoneType' object has no attribute 'append'\")\n",
      "<string>:1: SettingWithCopyWarning: \n",
      "A value is trying to be set on a copy of a slice from a DataFrame.\n",
      "Try using .loc[row_indexer,col_indexer] = value instead\n",
      "\n",
      "See the caveats in the documentation: https://pandas.pydata.org/pandas-docs/stable/user_guide/indexing.html#returning-a-view-versus-a-copy\n",
      "Error in LangChainTracer.on_chain_end callback: AttributeError(\"'NoneType' object has no attribute 'append'\")\n",
      "Error in LangChainTracer.on_chain_end callback: AttributeError(\"'NoneType' object has no attribute 'append'\")\n"
     ]
    },
    {
     "name": "stdout",
     "output_type": "stream",
     "text": [
      "\u001b[32;1m\u001b[1;3mThere seems to be an error in the code. The lambda function is not correctly referencing the 'Region' column of the dataframe. I should reference the 'Region' column of the row, not the dataframe.\n",
      "Action: python_repl_ast\n",
      "Action Input: df['Region'] = df.apply(lambda row: 'China' if row['Country'] == 'China' else row['Region'], axis=1)\u001b[0m\u001b[36;1m\u001b[1;3m\u001b[0m"
     ]
    },
    {
     "name": "stderr",
     "output_type": "stream",
     "text": [
      "Error in LangChainTracer.on_chain_end callback: AttributeError(\"'NoneType' object has no attribute 'append'\")\n",
      "Error in LangChainTracer.on_chain_end callback: AttributeError(\"'NoneType' object has no attribute 'append'\")\n",
      "Error in LangChainTracer.on_chain_end callback: AttributeError(\"'NoneType' object has no attribute 'append'\")\n"
     ]
    },
    {
     "name": "stdout",
     "output_type": "stream",
     "text": [
      "\u001b[32;1m\u001b[1;3mI have updated the 'Region' column to treat China as its own region. Now, I need to group by region and sum the capacity.\n",
      "Action: python_repl_ast\n",
      "Action Input: df.groupby('Region')['Capacity (MW)'].sum()\u001b[0m\u001b[36;1m\u001b[1;3mRegion\n",
      "Americas     8176.5\n",
      "Asia        17417.5\n",
      "China       63687.0\n",
      "Europe      11547.0\n",
      "Name: Capacity (MW), dtype: float64\u001b[0m"
     ]
    },
    {
     "name": "stderr",
     "output_type": "stream",
     "text": [
      "Error in LangChainTracer.on_chain_end callback: AttributeError(\"'NoneType' object has no attribute 'append'\")\n"
     ]
    },
    {
     "name": "stdout",
     "output_type": "stream",
     "text": [
      "\u001b[32;1m\u001b[1;3mI now know the total capacity by region for coal power units that will still be operating in 2050 and are younger than 40 years.\n",
      "Final Answer: The total capacity by region for coal power units that will still be operating in 2050 and are younger than 40 years is as follows:\n",
      "- Americas: 8176.5 MW\n",
      "- Asia: 17417.5 MW\n",
      "- China: 63687.0 MW\n",
      "- Europe: 11547.0 MW\u001b[0m\n",
      "\n",
      "\u001b[1m> Finished chain.\u001b[0m\n"
     ]
    },
    {
     "data": {
      "text/plain": [
       "'The total capacity by region for coal power units that will still be operating in 2050 and are younger than 40 years is as follows:\\n- Americas: 8176.5 MW\\n- Asia: 17417.5 MW\\n- China: 63687.0 MW\\n- Europe: 11547.0 MW'"
      ]
     },
     "metadata": {},
     "output_type": "display_data"
    }
   ],
   "source": [
    "agent_executor.run(\"What coal power units will still be in operating in 2050 and younger than 40 years? Note that some units may not yet be in operation. Give me a summary of total capacity by region, splitting out China as it's own region.\")"
   ]
  }
 ],
 "metadata": {
  "language_info": {
   "name": "python"
  }
 },
 "nbformat": 4,
 "nbformat_minor": 2
}
